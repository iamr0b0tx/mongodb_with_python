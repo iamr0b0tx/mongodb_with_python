{
 "cells": [
  {
   "cell_type": "code",
   "execution_count": 1,
   "metadata": {},
   "outputs": [],
   "source": [
    "%load_ext autoreload\n",
    "%autoreload 2"
   ]
  },
  {
   "cell_type": "markdown",
   "metadata": {},
   "source": [
    "#### import neccessary modules"
   ]
  },
  {
   "cell_type": "code",
   "execution_count": 2,
   "metadata": {},
   "outputs": [],
   "source": [
    "from pymongo import errors\n",
    "from pymongo.cursor import Cursor\n",
    "\n",
    "from mongo_db import MongoDB"
   ]
  },
  {
   "cell_type": "markdown",
   "metadata": {},
   "source": [
    "## Test MongoDB"
   ]
  },
  {
   "cell_type": "markdown",
   "metadata": {},
   "source": [
    "### MongoDB Connection"
   ]
  },
  {
   "cell_type": "code",
   "execution_count": 3,
   "metadata": {},
   "outputs": [
    {
     "name": "stderr",
     "output_type": "stream",
     "text": [
      "test_connection_with_bad_credentials (__main__.TestMongoDBConnection) ... ok\n",
      "test_connection_with_good_credentials (__main__.TestMongoDBConnection) ... ok\n",
      "test_connection_with_incomplete_args (__main__.TestMongoDBConnection) ... ok\n",
      "\n",
      "----------------------------------------------------------------------\n",
      "Ran 3 tests in 8.068s\n",
      "\n",
      "OK\n"
     ]
    }
   ],
   "source": [
    "import unittest\n",
    "\n",
    "class TestMongoDBConnection(unittest.TestCase):\n",
    "    def test_connection_with_bad_credentials(self):\n",
    "        self.assertIsInstance(MongoDB(\"sample\", \"sample\", \"Cluster0\", \"business\"), MongoDB)\n",
    "        \n",
    "    def test_connection_with_incomplete_args(self):\n",
    "        self.assertRaises(TypeError, MongoDB, \"iamr0b0tx\", \"Cluster0\", \"business\")\n",
    "        \n",
    "    def test_connection_with_good_credentials(self):\n",
    "        self.assertIsInstance(MongoDB(\"iamr0b0tx\", \"DJ0Qb8XqulWFUXQK\", \"Cluster0\", \"business\"), MongoDB)\n",
    "\n",
    "_ = unittest.main(argv=['ignored', 'TestMongoDBConnection'], verbosity=2, exit=False)"
   ]
  },
  {
   "cell_type": "markdown",
   "metadata": {},
   "source": [
    "#### MongoDB bad credentials"
   ]
  },
  {
   "cell_type": "code",
   "execution_count": 4,
   "metadata": {
    "scrolled": false
   },
   "outputs": [
    {
     "name": "stderr",
     "output_type": "stream",
     "text": [
      "test_create_document (__main__.TestMongoDBCRUD) ... ok\n",
      "test_delete_document (__main__.TestMongoDBCRUD) ... ok\n",
      "test_read_document (__main__.TestMongoDBCRUD) ... ok\n",
      "test_update_document (__main__.TestMongoDBCRUD) ... ok\n",
      "\n",
      "----------------------------------------------------------------------\n",
      "Ran 4 tests in 32.774s\n",
      "\n",
      "OK\n"
     ]
    }
   ],
   "source": [
    "class TestMongoDBCRUD(unittest.TestCase):\n",
    "    def setUp(self):\n",
    "        # Load test data\n",
    "        self.valid_mongodb = MongoDB(\"iamr0b0tx\", \"DJ0Qb8XqulWFUXQK\", \"Cluster0\", \"business\")\n",
    "        self.invalid_mongodb = MongoDB(\"sample\", \"sample\", \"Cluster0\", \"business\")\n",
    "\n",
    "    def test_create_document(self):\n",
    "        self.assertEqual(self.valid_mongodb.create({'name': 'Kitchen', 'rating': 1, 'cuisine': 'Pizza'}), True)\n",
    "        self.assertEqual(self.invalid_mongodb.create({'name': 'Kitchen', 'rating': 1, 'cuisine': 'Pizza'}), False)\n",
    "        \n",
    "    def test_read_document(self):\n",
    "        self.assertIsInstance(self.valid_mongodb.read({'rating': 1}), Cursor)\n",
    "        self.assertIsInstance(self.invalid_mongodb.read({'rating': 1}), Cursor)\n",
    "        \n",
    "    def test_update_document(self):\n",
    "        self.assertIsInstance(self.valid_mongodb.update({'rating': 1}, {'rating': 5}), dict)\n",
    "        self.assertRaises(errors.OperationFailure, self.invalid_mongodb.update, {'rating': 1}, {'rating': 5})\n",
    "        \n",
    "    def test_delete_document(self):\n",
    "        self.assertIsInstance(self.valid_mongodb.delete({'rating': 1}), dict)\n",
    "        self.assertRaises(errors.OperationFailure, self.invalid_mongodb.delete, {'rating': 5})\n",
    "        \n",
    "\n",
    "main = TestMongoDBCRUD()\n",
    "_ = unittest.main(argv=['ignored', 'TestMongoDBCRUD'], verbosity=2, exit=False)"
   ]
  },
  {
   "cell_type": "code",
   "execution_count": null,
   "metadata": {},
   "outputs": [],
   "source": []
  },
  {
   "cell_type": "markdown",
   "metadata": {},
   "source": [
    "# End of Notebook"
   ]
  }
 ],
 "metadata": {
  "kernelspec": {
   "display_name": "Python 3",
   "language": "python",
   "name": "python3"
  },
  "language_info": {
   "codemirror_mode": {
    "name": "ipython",
    "version": 3
   },
   "file_extension": ".py",
   "mimetype": "text/x-python",
   "name": "python",
   "nbconvert_exporter": "python",
   "pygments_lexer": "ipython3",
   "version": "3.8.5"
  }
 },
 "nbformat": 4,
 "nbformat_minor": 4
}
